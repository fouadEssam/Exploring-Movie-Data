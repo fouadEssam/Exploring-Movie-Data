{
  "metadata": {
    "kernelspec": {
      "name": "python",
      "display_name": "Python (Pyodide)",
      "language": "python"
    },
    "language_info": {
      "codemirror_mode": {
        "name": "python",
        "version": 3
      },
      "file_extension": ".py",
      "mimetype": "text/x-python",
      "name": "python",
      "nbconvert_exporter": "python",
      "pygments_lexer": "ipython3",
      "version": "3.8"
    }
  },
  "nbformat_minor": 4,
  "nbformat": 4,
  "cells": [
    {
      "cell_type": "markdown",
      "source": "preprocessing",
      "metadata": {
        "id": "TQa8Gb7eX5l9"
      }
    },
    {
      "cell_type": "code",
      "source": "#Drop unnecessary Columns\n#Drop the 'color column from the DataFrame\ndf.drop('color', axis=1, inplace=True)\ndf.drop('aspect_ratio', axis=1, inplace=True)\ndf.drop('plot_keywords', axis=1, inplace=True)\ndf.drop('facenumber_in_poster', axis=1, inplace=True)\ndf.drop('actor_3_facebook_likes', axis=1, inplace=True)\ndf.drop('actor_2_facebook_likes', axis=1, inplace=True)\ndf.drop('actor_3_name', axis=1, inplace=True)\ndf.drop_duplicates(subset='movie_title',inplace=True)",
      "metadata": {
        "trusted": true,
        "id": "51FTiG6AtjAr",
        "collapsed": true,
        "jupyter": {
          "outputs_hidden": true
        }
      },
      "outputs": [],
      "execution_count": 22
    },
    {
      "cell_type": "code",
      "source": "#fill in missing values\ndf['gross'].fillna(df['gross'].mean(),inplace = True)\ndf['budget'].fillna(df['gross'].mean(),inplace = True)\n#remove empty rows\ndf.dropna(inplace=True)\n#shape after removing empty rows and Drop unnecessary Columns\ndf.shape",
      "metadata": {
        "trusted": true,
        "id": "y6FjPGZ3tjAq",
        "colab": {
          "base_uri": "https://localhost:8080/"
        },
        "outputId": "b4526d03-1437-4b9e-d86b-16ca3b1cf76d"
      },
      "outputs": [
        {
          "output_type": "execute_result",
          "data": {
            "text/plain": [
              "(4296, 22)"
            ]
          },
          "metadata": {},
          "execution_count": 23
        }
      ],
      "execution_count": 23
    },
    {
      "cell_type": "code",
      "source": "#converting data type\ndf['budget'] = df['budget'].astype('int64')\ndf['gross'] = df['gross'].astype('int64')\ndf['title_year'] = pd.to_datetime(df['title_year'], format='%Y')\ndf['title_year'] = df['title_year'].dt.strftime('%Y')",
      "metadata": {
        "id": "ZNIQ_-Bwav6J"
      },
      "outputs": [],
      "execution_count": 24
    },
    {
      "cell_type": "code",
      "source": "# Calculate profit by subtracting the budget from the gross amount\ndf['profit'] = df['gross'] - df['budget']\n",
      "metadata": {
        "id": "3HjIi_y70-si"
      },
      "outputs": [],
      "execution_count": 25
    },
    {
      "cell_type": "code",
      "source": "# Split the 'genres' column by '|' and select the first genre\ndf['genres'] = df['genres'].str.split('|').str[0]\n",
      "metadata": {
        "id": "OQRcjTM4zk57"
      },
      "outputs": [],
      "execution_count": 56
    },
    {
      "cell_type": "code",
      "source": "#searching for empty values\nprint(df.isnull().sum())",
      "metadata": {
        "trusted": true,
        "colab": {
          "base_uri": "https://localhost:8080/"
        },
        "id": "Rx--I-kktjAr",
        "outputId": "93eaf197-b107-4c49-e616-fcc23ccd9c0d",
        "collapsed": true,
        "jupyter": {
          "outputs_hidden": true
        }
      },
      "outputs": [
        {
          "output_type": "stream",
          "name": "stdout",
          "text": [
            "director_name                0\n",
            "num_critic_for_reviews       0\n",
            "duration                     0\n",
            "director_facebook_likes      0\n",
            "actor_3_facebook_likes       0\n",
            "actor_2_name                 0\n",
            "actor_1_facebook_likes       0\n",
            "gross                        0\n",
            "genres                       0\n",
            "actor_1_name                 0\n",
            "movie_title                  0\n",
            "num_voted_users              0\n",
            "cast_total_facebook_likes    0\n",
            "actor_3_name                 0\n",
            "facenumber_in_poster         0\n",
            "plot_keywords                0\n",
            "movie_imdb_link              0\n",
            "num_user_for_reviews         0\n",
            "language                     0\n",
            "country                      0\n",
            "content_rating               0\n",
            "budget                       0\n",
            "title_year                   0\n",
            "actor_2_facebook_likes       0\n",
            "imdb_score                   0\n",
            "aspect_ratio                 0\n",
            "movie_facebook_likes         0\n",
            "dtype: int64\n"
          ]
        }
      ],
      "execution_count": 21
    },
    {
      "cell_type": "code",
      "source": "# Display rows where 'country' doesn't start with a letter (a-z) or end with a letter (a-z)\ndf[~df[\"country\"].str.match(\"^[a-zA-Z].*[a-zA-Z]$\")]\n",
      "metadata": {
        "colab": {
          "base_uri": "https://localhost:8080/",
          "height": 99
        },
        "id": "3wDuB7SgeFCT",
        "outputId": "780f9a80-16a3-4867-8f67-93637f1e28b6"
      },
      "outputs": [
        {
          "output_type": "execute_result",
          "data": {
            "text/plain": [
              "Empty DataFrame\n",
              "Columns: [director_name, num_critic_for_reviews, duration, director_facebook_likes, actor_2_name, actor_1_facebook_likes, gross, genres, actor_1_name, movie_title, num_voted_users, cast_total_facebook_likes, movie_imdb_link, num_user_for_reviews, language, country, content_rating, budget, title_year, imdb_score, aspect_ratio, movie_facebook_likes, profit]\n",
              "Index: []\n",
              "\n",
              "[0 rows x 23 columns]"
            ],
            "text/html": [
              "\n",
              "  <div id=\"df-1bfe363e-648c-46e6-9416-e7f1753afe6e\" class=\"colab-df-container\">\n",
              "    <div>\n",
              "<style scoped>\n",
              "    .dataframe tbody tr th:only-of-type {\n",
              "        vertical-align: middle;\n",
              "    }\n",
              "\n",
              "    .dataframe tbody tr th {\n",
              "        vertical-align: top;\n",
              "    }\n",
              "\n",
              "    .dataframe thead th {\n",
              "        text-align: right;\n",
              "    }\n",
              "</style>\n",
              "<table border=\"1\" class=\"dataframe\">\n",
              "  <thead>\n",
              "    <tr style=\"text-align: right;\">\n",
              "      <th></th>\n",
              "      <th>director_name</th>\n",
              "      <th>num_critic_for_reviews</th>\n",
              "      <th>duration</th>\n",
              "      <th>director_facebook_likes</th>\n",
              "      <th>actor_2_name</th>\n",
              "      <th>actor_1_facebook_likes</th>\n",
              "      <th>gross</th>\n",
              "      <th>genres</th>\n",
              "      <th>actor_1_name</th>\n",
              "      <th>movie_title</th>\n",
              "      <th>...</th>\n",
              "      <th>num_user_for_reviews</th>\n",
              "      <th>language</th>\n",
              "      <th>country</th>\n",
              "      <th>content_rating</th>\n",
              "      <th>budget</th>\n",
              "      <th>title_year</th>\n",
              "      <th>imdb_score</th>\n",
              "      <th>aspect_ratio</th>\n",
              "      <th>movie_facebook_likes</th>\n",
              "      <th>profit</th>\n",
              "    </tr>\n",
              "  </thead>\n",
              "  <tbody>\n",
              "  </tbody>\n",
              "</table>\n",
              "<p>0 rows × 23 columns</p>\n",
              "</div>\n",
              "    <div class=\"colab-df-buttons\">\n",
              "\n",
              "  <div class=\"colab-df-container\">\n",
              "    <button class=\"colab-df-convert\" onclick=\"convertToInteractive('df-1bfe363e-648c-46e6-9416-e7f1753afe6e')\"\n",
              "            title=\"Convert this dataframe to an interactive table.\"\n",
              "            style=\"display:none;\">\n",
              "\n",
              "  <svg xmlns=\"http://www.w3.org/2000/svg\" height=\"24px\" viewBox=\"0 -960 960 960\">\n",
              "    <path d=\"M120-120v-720h720v720H120Zm60-500h600v-160H180v160Zm220 220h160v-160H400v160Zm0 220h160v-160H400v160ZM180-400h160v-160H180v160Zm440 0h160v-160H620v160ZM180-180h160v-160H180v160Zm440 0h160v-160H620v160Z\"/>\n",
              "  </svg>\n",
              "    </button>\n",
              "\n",
              "  <style>\n",
              "    .colab-df-container {\n",
              "      display:flex;\n",
              "      gap: 12px;\n",
              "    }\n",
              "\n",
              "    .colab-df-convert {\n",
              "      background-color: #E8F0FE;\n",
              "      border: none;\n",
              "      border-radius: 50%;\n",
              "      cursor: pointer;\n",
              "      display: none;\n",
              "      fill: #1967D2;\n",
              "      height: 32px;\n",
              "      padding: 0 0 0 0;\n",
              "      width: 32px;\n",
              "    }\n",
              "\n",
              "    .colab-df-convert:hover {\n",
              "      background-color: #E2EBFA;\n",
              "      box-shadow: 0px 1px 2px rgba(60, 64, 67, 0.3), 0px 1px 3px 1px rgba(60, 64, 67, 0.15);\n",
              "      fill: #174EA6;\n",
              "    }\n",
              "\n",
              "    .colab-df-buttons div {\n",
              "      margin-bottom: 4px;\n",
              "    }\n",
              "\n",
              "    [theme=dark] .colab-df-convert {\n",
              "      background-color: #3B4455;\n",
              "      fill: #D2E3FC;\n",
              "    }\n",
              "\n",
              "    [theme=dark] .colab-df-convert:hover {\n",
              "      background-color: #434B5C;\n",
              "      box-shadow: 0px 1px 3px 1px rgba(0, 0, 0, 0.15);\n",
              "      filter: drop-shadow(0px 1px 2px rgba(0, 0, 0, 0.3));\n",
              "      fill: #FFFFFF;\n",
              "    }\n",
              "  </style>\n",
              "\n",
              "    <script>\n",
              "      const buttonEl =\n",
              "        document.querySelector('#df-1bfe363e-648c-46e6-9416-e7f1753afe6e button.colab-df-convert');\n",
              "      buttonEl.style.display =\n",
              "        google.colab.kernel.accessAllowed ? 'block' : 'none';\n",
              "\n",
              "      async function convertToInteractive(key) {\n",
              "        const element = document.querySelector('#df-1bfe363e-648c-46e6-9416-e7f1753afe6e');\n",
              "        const dataTable =\n",
              "          await google.colab.kernel.invokeFunction('convertToInteractive',\n",
              "                                                    [key], {});\n",
              "        if (!dataTable) return;\n",
              "\n",
              "        const docLinkHtml = 'Like what you see? Visit the ' +\n",
              "          '<a target=\"_blank\" href=https://colab.research.google.com/notebooks/data_table.ipynb>data table notebook</a>'\n",
              "          + ' to learn more about interactive tables.';\n",
              "        element.innerHTML = '';\n",
              "        dataTable['output_type'] = 'display_data';\n",
              "        await google.colab.output.renderOutput(dataTable, element);\n",
              "        const docLink = document.createElement('div');\n",
              "        docLink.innerHTML = docLinkHtml;\n",
              "        element.appendChild(docLink);\n",
              "      }\n",
              "    </script>\n",
              "  </div>\n",
              "\n",
              "\n",
              "    </div>\n",
              "  </div>\n"
            ],
            "application/vnd.google.colaboratory.intrinsic+json": {
              "type": "dataframe"
            }
          },
          "metadata": {},
          "execution_count": 36
        }
      ],
      "execution_count": 36
    },
    {
      "cell_type": "code",
      "source": "#download preprocessed data\npreprocessed_data = df.to_csv('df.csv', index=False)",
      "metadata": {
        "id": "-aLJ7BIk4XB0"
      },
      "outputs": [],
      "execution_count": 110
    }
  ]
}